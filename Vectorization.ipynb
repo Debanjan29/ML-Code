{
  "nbformat": 4,
  "nbformat_minor": 0,
  "metadata": {
    "colab": {
      "provenance": [],
      "authorship_tag": "ABX9TyPfZBJkGkmrGUUeb8RKam+k",
      "include_colab_link": true
    },
    "kernelspec": {
      "name": "python3",
      "display_name": "Python 3"
    },
    "language_info": {
      "name": "python"
    }
  },
  "cells": [
    {
      "cell_type": "markdown",
      "metadata": {
        "id": "view-in-github",
        "colab_type": "text"
      },
      "source": [
        "<a href=\"https://colab.research.google.com/github/Debanjan29/ML-Code/blob/Deep-Learning/Vectorization.ipynb\" target=\"_parent\"><img src=\"https://colab.research.google.com/assets/colab-badge.svg\" alt=\"Open In Colab\"/></a>"
      ]
    },
    {
      "cell_type": "code",
      "execution_count": 38,
      "metadata": {
        "colab": {
          "base_uri": "https://localhost:8080/"
        },
        "id": "thk1AFwnewuc",
        "outputId": "2c92da01-d9a1-49a0-b6b0-8234e82bbd64"
      },
      "outputs": [
        {
          "output_type": "stream",
          "name": "stdout",
          "text": [
            "Value of c:  262.13422002294607\n",
            "Using Vectorization Time : 1325.6072998046875 ms\n",
            "Value of c:  262.13422002294584\n",
            "Using Loops Time : 9224.414825439453 ms\n",
            " \n",
            "This shows that Vectorization takes less time than using traditional loop approaches\n"
          ]
        }
      ],
      "source": [
        "import numpy as np\n",
        "import time\n",
        "a= np.random.rand(1000)\n",
        "b= np.random.rand(1000)\n",
        "c2=0\n",
        "# Using Vectorization (avoiding loops)\n",
        "tic=time.time()\n",
        "c2=np.dot(a,b)\n",
        "toc=time.time()\n",
        "print(\"Value of c: \",c2)\n",
        "print(\"Using Vectorization Time : \"+(str((-tic+toc)*10000000))+ \" ms\")\n",
        "\n",
        "\n",
        "c=0\n",
        "tic=time.time()\n",
        "for i in range(1000):\n",
        "  c=c+a[i]*b[i]\n",
        "toc=time.time()\n",
        "print(\"Value of c: \",c)\n",
        "print(\"Using Loops Time : \"+(str((-tic+toc)*10000000))+ \" ms\")\n",
        "print(\" \")\n",
        "print(\"This shows that Vectorization takes less time than using traditional loop approaches\")\n",
        "# This shows that Vectorization takes less time than using traditional loop approaches\n"
      ]
    },
    {
      "cell_type": "markdown",
      "source": [
        "# The numpy.random.rand function is part of the NumPy library, which is widely used for numerical computations in Python. This function generates an array of random numbers with specified dimensions from a uniform distribution over the interval [0, 1)."
      ],
      "metadata": {
        "id": "d5ff8H3-fs2H"
      }
    },
    {
      "cell_type": "code",
      "source": [],
      "metadata": {
        "id": "dg3aSFBne-kO"
      },
      "execution_count": 35,
      "outputs": []
    },
    {
      "cell_type": "code",
      "source": [],
      "metadata": {
        "id": "uQSy8PvmgByN"
      },
      "execution_count": null,
      "outputs": []
    }
  ]
}